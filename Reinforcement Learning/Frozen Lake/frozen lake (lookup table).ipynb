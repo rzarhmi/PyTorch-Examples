{
 "cells": [
  {
   "cell_type": "code",
   "execution_count": 3,
   "metadata": {
    "id": "0wVghUxj9fh9"
   },
   "outputs": [],
   "source": [
    "import numpy as np\n",
    "np.random.seed(42)\n",
    "import gym"
   ]
  },
  {
   "cell_type": "code",
   "execution_count": 43,
   "metadata": {
    "id": "DHq-c6dZe5HF"
   },
   "outputs": [],
   "source": [
    "class QLearnFrozenLake():\n",
    "    def __init__(self):\n",
    "        self.env = gym.make(\"FrozenLake-v0\")    \n",
    "        num_of_actions = self.env.nA\n",
    "        num_of_states = self.env.nS\n",
    "        self.lookup_table = np.zeros((num_of_states, num_of_actions))\n",
    "\n",
    "    def exploit(self, state):\n",
    "        lookup_table = self.lookup_table\n",
    "        return np.argmax(lookup_table[state, :])\n",
    "\n",
    "    def explore(self):\n",
    "        env = self.env\n",
    "        return env.action_space.sample()\n",
    "\n",
    "    def fit(self, epochs, max_eps, alpha, gamma):\n",
    "        env = self.env\n",
    "        lookup_table = self.lookup_table\n",
    "        eps = max_eps\n",
    "        rewards = []\n",
    "        for epoch in range(epochs):\n",
    "            state = env.reset()\n",
    "            running_reward = 0\n",
    "            for i in range(150):\n",
    "                if np.random.random() > eps:\n",
    "                    action = self.exploit(state)\n",
    "                else:\n",
    "                    action = self.explore()\n",
    "                new_state, reward, won_lost, _ = env.step(action)\n",
    "                lookup_table[state, action] += alpha * (reward + gamma * np.max(lookup_table[new_state, :]) - lookup_table[state, action])\n",
    "                running_reward += reward\n",
    "                state = new_state\n",
    "                if won_lost:\n",
    "                    if eps > 0.011:\n",
    "                        eps = eps - 0.001\n",
    "                    break\n",
    "            rewards.append(running_reward)\n",
    "            self.lookup_table = lookup_table\n",
    "\n",
    "        print (\"mean reward is: \" +  str(sum(rewards)/epochs))\n",
    "        self.best_actions = []\n",
    "        for state in range(self.env.nS):\n",
    "            self.best_actions.append(np.argmax(lookup_table[state,:]))    \n",
    "\n",
    "    def test(self, num_of_trials):\n",
    "        env = self.env\n",
    "        best_actions = self.best_actions\n",
    "        env.reset()\n",
    "        success_rate = 0\n",
    "        for i in range(num_of_trials):\n",
    "            state = env.reset()\n",
    "            for j in range(150):\n",
    "                new_state, reward, won_lost, _ = env.step(best_actions[state])\n",
    "                if won_lost:\n",
    "                    if reward != 0: \n",
    "                        success_rate += (1 / num_of_trials)\n",
    "                    break\n",
    "                state = new_state\n",
    "        print(f\"success rate is: {success_rate*100}% \")\n",
    "        env.close()"
   ]
  },
  {
   "cell_type": "code",
   "execution_count": 44,
   "metadata": {
    "id": "8DZMeXfw50bb"
   },
   "outputs": [],
   "source": [
    "qlearn = QLearnFrozenLake()"
   ]
  },
  {
   "cell_type": "code",
   "execution_count": 45,
   "metadata": {
    "colab": {
     "base_uri": "https://localhost:8080/"
    },
    "id": "D30uQUcu5_TT",
    "outputId": "9315f247-6fe2-4993-f7be-a90845845404"
   },
   "outputs": [
    {
     "name": "stdout",
     "output_type": "stream",
     "text": [
      "mean reward is: 0.60408\n"
     ]
    }
   ],
   "source": [
    "qlearn.fit(epochs=25000, max_eps=1, alpha=0.08, gamma=0.95)"
   ]
  },
  {
   "cell_type": "code",
   "execution_count": 46,
   "metadata": {
    "colab": {
     "base_uri": "https://localhost:8080/"
    },
    "id": "0a6icRSI6RP3",
    "outputId": "f21a98cd-3cf6-4427-efb2-21a8172e5ed8"
   },
   "outputs": [
    {
     "name": "stdout",
     "output_type": "stream",
     "text": [
      "success rate is: 73.40000000000005% \n"
     ]
    }
   ],
   "source": [
    "qlearn.test(num_of_trials=1000)"
   ]
  }
 ],
 "metadata": {
  "colab": {
   "name": "NN-ExtraHW-Q1.ipynb",
   "provenance": []
  },
  "kernelspec": {
   "display_name": "Python 3",
   "language": "python",
   "name": "python3"
  },
  "language_info": {
   "codemirror_mode": {
    "name": "ipython",
    "version": 3
   },
   "file_extension": ".py",
   "mimetype": "text/x-python",
   "name": "python",
   "nbconvert_exporter": "python",
   "pygments_lexer": "ipython3",
   "version": "3.7.9"
  }
 },
 "nbformat": 4,
 "nbformat_minor": 1
}
