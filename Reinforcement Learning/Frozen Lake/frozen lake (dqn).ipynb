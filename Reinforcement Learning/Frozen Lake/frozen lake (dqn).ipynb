{
 "cells": [
  {
   "cell_type": "code",
   "execution_count": 5,
   "metadata": {
    "colab": {
     "base_uri": "https://localhost:8080/",
     "height": 35
    },
    "id": "x4nB5GjpMmDt",
    "outputId": "f80c9f00-dac7-4c98-bd69-38dabac30471"
   },
   "outputs": [
    {
     "data": {
      "application/vnd.google.colaboratory.intrinsic+json": {
       "type": "string"
      },
      "text/plain": [
       "'cuda'"
      ]
     },
     "execution_count": 5,
     "metadata": {
      "tags": []
     },
     "output_type": "execute_result"
    }
   ],
   "source": [
    "import numpy as np\n",
    "import torch\n",
    "from torch import nn\n",
    "import gym\n",
    "import random\n",
    "from collections import deque\n",
    "np.random.seed(42)\n",
    "torch.manual_seed(42)\n",
    "device = \"cuda\" if torch.cuda.is_available() else \"cpu\"\n",
    "device"
   ]
  },
  {
   "cell_type": "code",
   "execution_count": 6,
   "metadata": {
    "id": "Q1ruQTlCQzgj"
   },
   "outputs": [],
   "source": [
    "class MLP(nn.Module):\n",
    "    def __init__(self, input_size, hidden_sizes, output_size):\n",
    "        super().__init__()\n",
    "        self.fc1 = nn.Linear(input_size, hidden_sizes[0])\n",
    "        self.fc2 = nn.Linear(hidden_sizes[0], hidden_sizes[1])\n",
    "        self.output = nn.Linear(hidden_sizes[1], output_size)\n",
    "        self.relu = nn.ReLU()\n",
    "    \n",
    "    def forward(self, x):\n",
    "        x = self.fc1(x)\n",
    "        x = self.relu(x)\n",
    "        x = self.fc2(x)\n",
    "        x = self.relu(x)\n",
    "        out = self.output(x)\n",
    "        return out"
   ]
  },
  {
   "cell_type": "code",
   "execution_count": 14,
   "metadata": {
    "id": "VYltH8I6Rho6"
   },
   "outputs": [],
   "source": [
    "class DeepQLearnFrozenLake():\n",
    "    def __init__(self):\n",
    "        self.env = gym.make(\"FrozenLake-v0\")\n",
    "        self.env.reset()\n",
    "        num_of_actions = self.env.nA\n",
    "        num_of_states = self.env.nS\n",
    "        self.memory  = deque(maxlen=500)\n",
    "        \n",
    "        self.model = MLP(num_of_states, [13, 8], num_of_actions).to(device)\n",
    "        self.target_model = MLP(num_of_states, [13, 8], num_of_actions).to(device)\n",
    "        self.criterion = nn.MSELoss()\n",
    "        self.optimizer = torch.optim.Adam(self.model.parameters(), lr=0.0001)\n",
    "        \n",
    "    def explore(self):\n",
    "        return self.env.action_space.sample()\n",
    "    \n",
    "    def exploit(self, state):\n",
    "        return int(torch.argmax(self.model(self.encode(state))))\n",
    "\n",
    "    def encode(self, state):\n",
    "        result = torch.eye(16)[state]\n",
    "        result = result.to(device)\n",
    "        return result\n",
    "\n",
    "    def experience(self, state, action, reward, new_state, done):\n",
    "        self.memory.append([state, action, reward, new_state, done])\n",
    "\n",
    "    def update_target_model(self):\n",
    "        self.target_model.load_state_dict(self.model.state_dict())\n",
    "\n",
    "    def train_models(self, info, episode, gamma):\n",
    "        train_state, train_action, train_reward, train_new_state, train_won_lost = info.T\n",
    "        target = self.target_model(self.encode(train_state))\n",
    "        done_indices = np.where(train_won_lost == 1)\n",
    "        not_done_indices = np.where(train_won_lost == 0)\n",
    "        done_actions = train_action[done_indices]\n",
    "        not_done_actions = train_action[not_done_indices]\n",
    "        target[done_indices, done_actions] = torch.from_numpy(train_reward[done_indices]).to(device)\n",
    "        max_Q = torch.max(self.target_model(self.encode(train_new_state)), dim=1)[0]\n",
    "        target[not_done_indices, not_done_actions] = torch.from_numpy(train_reward[not_done_indices]).to(device) + max_Q[not_done_indices] * gamma\n",
    "        h = self.model(self.encode(train_state))\n",
    "        self.optimizer.zero_grad()\n",
    "        loss = self.criterion(h, target)\n",
    "        loss.backward()\n",
    "        self.optimizer.step()\n",
    "        if episode % 10 == 0:\n",
    "            self.update_target_model()\n",
    "\n",
    "    def fit(self, epochs, max_eps, gamma, should_experience, batch_size=0):\n",
    "        eps = max_eps\n",
    "        rewards = []\n",
    "        for epoch in range(epochs):\n",
    "            if epoch % 300 == 299: \n",
    "                print(\"Training \" + str((100 * epoch)//epochs) + \"% completed...\")\n",
    "            state = self.env.reset()\n",
    "            running_reward = 0\n",
    "            for i in range(150):\n",
    "                if np.random.random() > eps:\n",
    "                    action = self.exploit(state)\n",
    "                else:\n",
    "                    action = self.explore()\n",
    "                new_state, reward, won_lost, _ = self.env.step(action)\n",
    "                running_reward += reward\n",
    "                if should_experience:\n",
    "                    self.experience(state, action, reward, new_state, won_lost)                    \n",
    "                if won_lost:\n",
    "                    eps = max(0.011, eps * 0.94)\n",
    "                    break\n",
    "\n",
    "                prev_state = state\n",
    "                state = new_state\n",
    "                if should_experience:\n",
    "                    if len(self.memory) < batch_size:\n",
    "                        continue\n",
    "                    else:\n",
    "                        info = random.sample(self.memory, batch_size)\n",
    "                        info = np.array(info, dtype=\"float32\")\n",
    "                else:\n",
    "                    info = np.array([[prev_state], [action], [reward], [new_state], [won_lost]], dtype=\"float32\").T\n",
    "                self.train_models(info, i, gamma)\n",
    "                \n",
    "            rewards.append(running_reward)\n",
    "        print(\"mean reward is: {}\".format(np.mean(rewards)))\n",
    "        self.best_actions = []\n",
    "        for state in range(self.env.nS):\n",
    "            self.best_actions.append(int(torch.argmax(self.model(self.encode(state)))))\n",
    "        \n",
    "    def test(self, num_of_trials):\n",
    "        print()\n",
    "        print(\"Starting to test ...\")\n",
    "        env = self.env\n",
    "        best_actions = self.best_actions\n",
    "        env.reset()\n",
    "        success_rate = 0\n",
    "        for i in range(num_of_trials):\n",
    "            state = env.reset()\n",
    "            for j in range(200):\n",
    "                new_state, reward, won_lost, _ = env.step(best_actions[state])\n",
    "                if won_lost:\n",
    "                    if reward != 0: \n",
    "                        success_rate += (1 / num_of_trials)\n",
    "                    break\n",
    "                state = new_state\n",
    "        print(f\"success rate is: {success_rate*100}%\")"
   ]
  },
  {
   "cell_type": "code",
   "execution_count": 15,
   "metadata": {
    "colab": {
     "base_uri": "https://localhost:8080/"
    },
    "id": "75ac7m0Y-W3-",
    "outputId": "69394383-ce35-4899-b2bc-79441ef8d84b"
   },
   "outputs": [
    {
     "name": "stdout",
     "output_type": "stream",
     "text": [
      "Training 4% completed...\n",
      "Training 9% completed...\n",
      "Training 14% completed...\n",
      "Training 19% completed...\n",
      "Training 24% completed...\n",
      "Training 29% completed...\n",
      "Training 34% completed...\n",
      "Training 39% completed...\n",
      "Training 44% completed...\n",
      "Training 49% completed...\n",
      "Training 54% completed...\n",
      "Training 59% completed...\n",
      "Training 64% completed...\n",
      "Training 69% completed...\n",
      "Training 74% completed...\n",
      "Training 79% completed...\n",
      "Training 84% completed...\n",
      "Training 89% completed...\n",
      "Training 94% completed...\n",
      "Training 99% completed...\n",
      "mean reward is: 0.022833333333333334\n",
      "\n",
      "Starting to test ...\n",
      "success rate is: 3.200000000000002%\n"
     ]
    }
   ],
   "source": [
    "deepqlearn = DeepQLearnFrozenLake()\n",
    "deepqlearn.fit(epochs=6000, max_eps=1, gamma=0.95, should_experience=False)\n",
    "deepqlearn.test(num_of_trials=1000)"
   ]
  },
  {
   "cell_type": "code",
   "execution_count": 16,
   "metadata": {
    "colab": {
     "base_uri": "https://localhost:8080/"
    },
    "id": "OvRIjBx6jvdz",
    "outputId": "83bf7ff5-24b0-4a52-ba96-61d2c5e8fdc5"
   },
   "outputs": [
    {
     "name": "stdout",
     "output_type": "stream",
     "text": [
      "Training 14% completed...\n",
      "Training 29% completed...\n",
      "Training 44% completed...\n",
      "Training 59% completed...\n",
      "Training 74% completed...\n",
      "Training 89% completed...\n",
      "mean reward is: 0.359\n",
      "\n",
      "Starting to test ...\n",
      "success rate is: 74.10000000000005%\n"
     ]
    }
   ],
   "source": [
    "deepqlearn = DeepQLearnFrozenLake()\n",
    "deepqlearn.fit(epochs=2000, max_eps=1, gamma=0.99, should_experience=True, batch_size=256)\n",
    "deepqlearn.test(num_of_trials=1000) "
   ]
  }
 ],
 "metadata": {
  "accelerator": "GPU",
  "colab": {
   "collapsed_sections": [],
   "name": "NN-ExtraHW-Q2.ipynb",
   "provenance": []
  },
  "kernelspec": {
   "display_name": "Python 3",
   "language": "python",
   "name": "python3"
  },
  "language_info": {
   "codemirror_mode": {
    "name": "ipython",
    "version": 3
   },
   "file_extension": ".py",
   "mimetype": "text/x-python",
   "name": "python",
   "nbconvert_exporter": "python",
   "pygments_lexer": "ipython3",
   "version": "3.7.9"
  }
 },
 "nbformat": 4,
 "nbformat_minor": 1
}
